{
 "cells": [
  {
   "cell_type": "markdown",
   "metadata": {
    "_uuid": "724469e0f265ace6818c5413ad9b046edf534c6f"
   },
   "source": [
    "# LeNet-5"
   ]
  },
  {
   "cell_type": "code",
   "execution_count": 16,
   "metadata": {
    "_cell_guid": "b1076dfc-b9ad-4769-8c92-a6c4dae69d19",
    "_uuid": "8f2839f25d086af736a60e9eeb907d3b93b6e0e5",
    "execution": {
     "iopub.execute_input": "2022-06-29T07:33:31.728749Z",
     "iopub.status.busy": "2022-06-29T07:33:31.728425Z",
     "iopub.status.idle": "2022-06-29T07:33:31.737418Z",
     "shell.execute_reply": "2022-06-29T07:33:31.736715Z",
     "shell.execute_reply.started": "2022-06-29T07:33:31.728688Z"
    }
   },
   "outputs": [],
   "source": [
    "import numpy as np # linear algebra\n",
    "import pandas as pd # data processing, CSV file I/O (e.g. pd.read_csv)\n",
    "import keras \n",
    "from keras.models import Sequential\n",
    "from keras.layers import Conv2D, Dense, MaxPool2D, Dropout, Flatten\n",
    "from keras.optimizers import Adam\n",
    "from keras.preprocessing.image import ImageDataGenerator\n",
    "from keras.callbacks import ReduceLROnPlateau\n",
    "from sklearn.model_selection import train_test_split\n",
    "import matplotlib.pyplot as plt\n",
    "import seaborn as sns \n",
    "import os"
   ]
  },
  {
   "cell_type": "code",
   "execution_count": 17,
   "metadata": {},
   "outputs": [
    {
     "name": "stdout",
     "output_type": "stream",
     "text": [
      "['test.csv', 'train.csv', 'sample_submission.csv']\n"
     ]
    }
   ],
   "source": [
    "print(os.listdir(\"../Dataset\"))"
   ]
  },
  {
   "cell_type": "markdown",
   "metadata": {
    "_cell_guid": "79c7e3d0-c299-4dcb-8224-4455121ee9b0",
    "_uuid": "d629ff2d2480ee46fbb7e2d37f6b5fab8052498a"
   },
   "source": [
    "# Load Data"
   ]
  },
  {
   "cell_type": "code",
   "execution_count": 3,
   "metadata": {},
   "outputs": [],
   "source": [
    "#Image size is 28x28. 784"
   ]
  },
  {
   "cell_type": "code",
   "execution_count": 18,
   "metadata": {
    "_uuid": "b1f812f18030149719ed56d54a4a91f46bdef8f0",
    "execution": {
     "iopub.execute_input": "2022-06-29T07:33:37.917821Z",
     "iopub.status.busy": "2022-06-29T07:33:37.917039Z",
     "iopub.status.idle": "2022-06-29T07:33:42.697361Z",
     "shell.execute_reply": "2022-06-29T07:33:42.696213Z",
     "shell.execute_reply.started": "2022-06-29T07:33:37.917745Z"
    }
   },
   "outputs": [
    {
     "name": "stdout",
     "output_type": "stream",
     "text": [
      "(42000, 785)\n"
     ]
    },
    {
     "data": {
      "text/html": [
       "<div>\n",
       "<style scoped>\n",
       "    .dataframe tbody tr th:only-of-type {\n",
       "        vertical-align: middle;\n",
       "    }\n",
       "\n",
       "    .dataframe tbody tr th {\n",
       "        vertical-align: top;\n",
       "    }\n",
       "\n",
       "    .dataframe thead th {\n",
       "        text-align: right;\n",
       "    }\n",
       "</style>\n",
       "<table border=\"1\" class=\"dataframe\">\n",
       "  <thead>\n",
       "    <tr style=\"text-align: right;\">\n",
       "      <th></th>\n",
       "      <th>label</th>\n",
       "      <th>pixel0</th>\n",
       "      <th>pixel1</th>\n",
       "      <th>pixel2</th>\n",
       "      <th>pixel3</th>\n",
       "      <th>pixel4</th>\n",
       "      <th>pixel5</th>\n",
       "      <th>pixel6</th>\n",
       "      <th>pixel7</th>\n",
       "      <th>pixel8</th>\n",
       "      <th>...</th>\n",
       "      <th>pixel774</th>\n",
       "      <th>pixel775</th>\n",
       "      <th>pixel776</th>\n",
       "      <th>pixel777</th>\n",
       "      <th>pixel778</th>\n",
       "      <th>pixel779</th>\n",
       "      <th>pixel780</th>\n",
       "      <th>pixel781</th>\n",
       "      <th>pixel782</th>\n",
       "      <th>pixel783</th>\n",
       "    </tr>\n",
       "  </thead>\n",
       "  <tbody>\n",
       "    <tr>\n",
       "      <th>0</th>\n",
       "      <td>1</td>\n",
       "      <td>0</td>\n",
       "      <td>0</td>\n",
       "      <td>0</td>\n",
       "      <td>0</td>\n",
       "      <td>0</td>\n",
       "      <td>0</td>\n",
       "      <td>0</td>\n",
       "      <td>0</td>\n",
       "      <td>0</td>\n",
       "      <td>...</td>\n",
       "      <td>0</td>\n",
       "      <td>0</td>\n",
       "      <td>0</td>\n",
       "      <td>0</td>\n",
       "      <td>0</td>\n",
       "      <td>0</td>\n",
       "      <td>0</td>\n",
       "      <td>0</td>\n",
       "      <td>0</td>\n",
       "      <td>0</td>\n",
       "    </tr>\n",
       "    <tr>\n",
       "      <th>1</th>\n",
       "      <td>0</td>\n",
       "      <td>0</td>\n",
       "      <td>0</td>\n",
       "      <td>0</td>\n",
       "      <td>0</td>\n",
       "      <td>0</td>\n",
       "      <td>0</td>\n",
       "      <td>0</td>\n",
       "      <td>0</td>\n",
       "      <td>0</td>\n",
       "      <td>...</td>\n",
       "      <td>0</td>\n",
       "      <td>0</td>\n",
       "      <td>0</td>\n",
       "      <td>0</td>\n",
       "      <td>0</td>\n",
       "      <td>0</td>\n",
       "      <td>0</td>\n",
       "      <td>0</td>\n",
       "      <td>0</td>\n",
       "      <td>0</td>\n",
       "    </tr>\n",
       "    <tr>\n",
       "      <th>2</th>\n",
       "      <td>1</td>\n",
       "      <td>0</td>\n",
       "      <td>0</td>\n",
       "      <td>0</td>\n",
       "      <td>0</td>\n",
       "      <td>0</td>\n",
       "      <td>0</td>\n",
       "      <td>0</td>\n",
       "      <td>0</td>\n",
       "      <td>0</td>\n",
       "      <td>...</td>\n",
       "      <td>0</td>\n",
       "      <td>0</td>\n",
       "      <td>0</td>\n",
       "      <td>0</td>\n",
       "      <td>0</td>\n",
       "      <td>0</td>\n",
       "      <td>0</td>\n",
       "      <td>0</td>\n",
       "      <td>0</td>\n",
       "      <td>0</td>\n",
       "    </tr>\n",
       "    <tr>\n",
       "      <th>3</th>\n",
       "      <td>4</td>\n",
       "      <td>0</td>\n",
       "      <td>0</td>\n",
       "      <td>0</td>\n",
       "      <td>0</td>\n",
       "      <td>0</td>\n",
       "      <td>0</td>\n",
       "      <td>0</td>\n",
       "      <td>0</td>\n",
       "      <td>0</td>\n",
       "      <td>...</td>\n",
       "      <td>0</td>\n",
       "      <td>0</td>\n",
       "      <td>0</td>\n",
       "      <td>0</td>\n",
       "      <td>0</td>\n",
       "      <td>0</td>\n",
       "      <td>0</td>\n",
       "      <td>0</td>\n",
       "      <td>0</td>\n",
       "      <td>0</td>\n",
       "    </tr>\n",
       "    <tr>\n",
       "      <th>4</th>\n",
       "      <td>0</td>\n",
       "      <td>0</td>\n",
       "      <td>0</td>\n",
       "      <td>0</td>\n",
       "      <td>0</td>\n",
       "      <td>0</td>\n",
       "      <td>0</td>\n",
       "      <td>0</td>\n",
       "      <td>0</td>\n",
       "      <td>0</td>\n",
       "      <td>...</td>\n",
       "      <td>0</td>\n",
       "      <td>0</td>\n",
       "      <td>0</td>\n",
       "      <td>0</td>\n",
       "      <td>0</td>\n",
       "      <td>0</td>\n",
       "      <td>0</td>\n",
       "      <td>0</td>\n",
       "      <td>0</td>\n",
       "      <td>0</td>\n",
       "    </tr>\n",
       "  </tbody>\n",
       "</table>\n",
       "<p>5 rows × 785 columns</p>\n",
       "</div>"
      ],
      "text/plain": [
       "   label  pixel0  pixel1  pixel2  pixel3  pixel4  pixel5  pixel6  pixel7  \\\n",
       "0      1       0       0       0       0       0       0       0       0   \n",
       "1      0       0       0       0       0       0       0       0       0   \n",
       "2      1       0       0       0       0       0       0       0       0   \n",
       "3      4       0       0       0       0       0       0       0       0   \n",
       "4      0       0       0       0       0       0       0       0       0   \n",
       "\n",
       "   pixel8  ...  pixel774  pixel775  pixel776  pixel777  pixel778  pixel779  \\\n",
       "0       0  ...         0         0         0         0         0         0   \n",
       "1       0  ...         0         0         0         0         0         0   \n",
       "2       0  ...         0         0         0         0         0         0   \n",
       "3       0  ...         0         0         0         0         0         0   \n",
       "4       0  ...         0         0         0         0         0         0   \n",
       "\n",
       "   pixel780  pixel781  pixel782  pixel783  \n",
       "0         0         0         0         0  \n",
       "1         0         0         0         0  \n",
       "2         0         0         0         0  \n",
       "3         0         0         0         0  \n",
       "4         0         0         0         0  \n",
       "\n",
       "[5 rows x 785 columns]"
      ]
     },
     "execution_count": 18,
     "metadata": {},
     "output_type": "execute_result"
    }
   ],
   "source": [
    "df_train = pd.read_csv('../Dataset/train.csv')\n",
    "print (df_train.shape)\n",
    "df_train.head()"
   ]
  },
  {
   "cell_type": "code",
   "execution_count": 19,
   "metadata": {},
   "outputs": [],
   "source": [
    "X_train = df_train.iloc[:, 1:]\n",
    "# alternatively you can write X_train = df_train.drop(labels=['label'],axis=1)\n",
    "Y_train = df_train.iloc[:, 0]\n",
    "# alternatively you can write Y_train = df_train['label']"
   ]
  },
  {
   "cell_type": "code",
   "execution_count": 20,
   "metadata": {
    "_uuid": "fea9de32145e1f9f9e592e77f939c721a51a0c68",
    "execution": {
     "iopub.execute_input": "2022-06-29T07:33:46.767932Z",
     "iopub.status.busy": "2022-06-29T07:33:46.767410Z",
     "iopub.status.idle": "2022-06-29T07:33:46.903406Z",
     "shell.execute_reply": "2022-06-29T07:33:46.902343Z",
     "shell.execute_reply.started": "2022-06-29T07:33:46.767867Z"
    },
    "scrolled": true
   },
   "outputs": [
    {
     "data": {
      "text/html": [
       "<div>\n",
       "<style scoped>\n",
       "    .dataframe tbody tr th:only-of-type {\n",
       "        vertical-align: middle;\n",
       "    }\n",
       "\n",
       "    .dataframe tbody tr th {\n",
       "        vertical-align: top;\n",
       "    }\n",
       "\n",
       "    .dataframe thead th {\n",
       "        text-align: right;\n",
       "    }\n",
       "</style>\n",
       "<table border=\"1\" class=\"dataframe\">\n",
       "  <thead>\n",
       "    <tr style=\"text-align: right;\">\n",
       "      <th></th>\n",
       "      <th>pixel0</th>\n",
       "      <th>pixel1</th>\n",
       "      <th>pixel2</th>\n",
       "      <th>pixel3</th>\n",
       "      <th>pixel4</th>\n",
       "      <th>pixel5</th>\n",
       "      <th>pixel6</th>\n",
       "      <th>pixel7</th>\n",
       "      <th>pixel8</th>\n",
       "      <th>pixel9</th>\n",
       "      <th>...</th>\n",
       "      <th>pixel774</th>\n",
       "      <th>pixel775</th>\n",
       "      <th>pixel776</th>\n",
       "      <th>pixel777</th>\n",
       "      <th>pixel778</th>\n",
       "      <th>pixel779</th>\n",
       "      <th>pixel780</th>\n",
       "      <th>pixel781</th>\n",
       "      <th>pixel782</th>\n",
       "      <th>pixel783</th>\n",
       "    </tr>\n",
       "  </thead>\n",
       "  <tbody>\n",
       "    <tr>\n",
       "      <th>0</th>\n",
       "      <td>0</td>\n",
       "      <td>0</td>\n",
       "      <td>0</td>\n",
       "      <td>0</td>\n",
       "      <td>0</td>\n",
       "      <td>0</td>\n",
       "      <td>0</td>\n",
       "      <td>0</td>\n",
       "      <td>0</td>\n",
       "      <td>0</td>\n",
       "      <td>...</td>\n",
       "      <td>0</td>\n",
       "      <td>0</td>\n",
       "      <td>0</td>\n",
       "      <td>0</td>\n",
       "      <td>0</td>\n",
       "      <td>0</td>\n",
       "      <td>0</td>\n",
       "      <td>0</td>\n",
       "      <td>0</td>\n",
       "      <td>0</td>\n",
       "    </tr>\n",
       "    <tr>\n",
       "      <th>1</th>\n",
       "      <td>0</td>\n",
       "      <td>0</td>\n",
       "      <td>0</td>\n",
       "      <td>0</td>\n",
       "      <td>0</td>\n",
       "      <td>0</td>\n",
       "      <td>0</td>\n",
       "      <td>0</td>\n",
       "      <td>0</td>\n",
       "      <td>0</td>\n",
       "      <td>...</td>\n",
       "      <td>0</td>\n",
       "      <td>0</td>\n",
       "      <td>0</td>\n",
       "      <td>0</td>\n",
       "      <td>0</td>\n",
       "      <td>0</td>\n",
       "      <td>0</td>\n",
       "      <td>0</td>\n",
       "      <td>0</td>\n",
       "      <td>0</td>\n",
       "    </tr>\n",
       "    <tr>\n",
       "      <th>2</th>\n",
       "      <td>0</td>\n",
       "      <td>0</td>\n",
       "      <td>0</td>\n",
       "      <td>0</td>\n",
       "      <td>0</td>\n",
       "      <td>0</td>\n",
       "      <td>0</td>\n",
       "      <td>0</td>\n",
       "      <td>0</td>\n",
       "      <td>0</td>\n",
       "      <td>...</td>\n",
       "      <td>0</td>\n",
       "      <td>0</td>\n",
       "      <td>0</td>\n",
       "      <td>0</td>\n",
       "      <td>0</td>\n",
       "      <td>0</td>\n",
       "      <td>0</td>\n",
       "      <td>0</td>\n",
       "      <td>0</td>\n",
       "      <td>0</td>\n",
       "    </tr>\n",
       "    <tr>\n",
       "      <th>3</th>\n",
       "      <td>0</td>\n",
       "      <td>0</td>\n",
       "      <td>0</td>\n",
       "      <td>0</td>\n",
       "      <td>0</td>\n",
       "      <td>0</td>\n",
       "      <td>0</td>\n",
       "      <td>0</td>\n",
       "      <td>0</td>\n",
       "      <td>0</td>\n",
       "      <td>...</td>\n",
       "      <td>0</td>\n",
       "      <td>0</td>\n",
       "      <td>0</td>\n",
       "      <td>0</td>\n",
       "      <td>0</td>\n",
       "      <td>0</td>\n",
       "      <td>0</td>\n",
       "      <td>0</td>\n",
       "      <td>0</td>\n",
       "      <td>0</td>\n",
       "    </tr>\n",
       "    <tr>\n",
       "      <th>4</th>\n",
       "      <td>0</td>\n",
       "      <td>0</td>\n",
       "      <td>0</td>\n",
       "      <td>0</td>\n",
       "      <td>0</td>\n",
       "      <td>0</td>\n",
       "      <td>0</td>\n",
       "      <td>0</td>\n",
       "      <td>0</td>\n",
       "      <td>0</td>\n",
       "      <td>...</td>\n",
       "      <td>0</td>\n",
       "      <td>0</td>\n",
       "      <td>0</td>\n",
       "      <td>0</td>\n",
       "      <td>0</td>\n",
       "      <td>0</td>\n",
       "      <td>0</td>\n",
       "      <td>0</td>\n",
       "      <td>0</td>\n",
       "      <td>0</td>\n",
       "    </tr>\n",
       "  </tbody>\n",
       "</table>\n",
       "<p>5 rows × 784 columns</p>\n",
       "</div>"
      ],
      "text/plain": [
       "   pixel0  pixel1  pixel2  pixel3  pixel4  pixel5  pixel6  pixel7  pixel8  \\\n",
       "0       0       0       0       0       0       0       0       0       0   \n",
       "1       0       0       0       0       0       0       0       0       0   \n",
       "2       0       0       0       0       0       0       0       0       0   \n",
       "3       0       0       0       0       0       0       0       0       0   \n",
       "4       0       0       0       0       0       0       0       0       0   \n",
       "\n",
       "   pixel9  ...  pixel774  pixel775  pixel776  pixel777  pixel778  pixel779  \\\n",
       "0       0  ...         0         0         0         0         0         0   \n",
       "1       0  ...         0         0         0         0         0         0   \n",
       "2       0  ...         0         0         0         0         0         0   \n",
       "3       0  ...         0         0         0         0         0         0   \n",
       "4       0  ...         0         0         0         0         0         0   \n",
       "\n",
       "   pixel780  pixel781  pixel782  pixel783  \n",
       "0         0         0         0         0  \n",
       "1         0         0         0         0  \n",
       "2         0         0         0         0  \n",
       "3         0         0         0         0  \n",
       "4         0         0         0         0  \n",
       "\n",
       "[5 rows x 784 columns]"
      ]
     },
     "execution_count": 20,
     "metadata": {},
     "output_type": "execute_result"
    }
   ],
   "source": [
    "X_train.head()"
   ]
  },
  {
   "cell_type": "code",
   "execution_count": 21,
   "metadata": {
    "_uuid": "b5f7101b15f4884313291e9fa1f4dc8c5b53ba2e",
    "execution": {
     "iopub.execute_input": "2022-06-29T07:40:57.456280Z",
     "iopub.status.busy": "2022-06-29T07:40:57.455921Z",
     "iopub.status.idle": "2022-06-29T07:40:57.465855Z",
     "shell.execute_reply": "2022-06-29T07:40:57.464365Z",
     "shell.execute_reply.started": "2022-06-29T07:40:57.456204Z"
    }
   },
   "outputs": [
    {
     "data": {
      "text/plain": [
       "0    1\n",
       "1    0\n",
       "2    1\n",
       "3    4\n",
       "4    0\n",
       "Name: label, dtype: int64"
      ]
     },
     "execution_count": 21,
     "metadata": {},
     "output_type": "execute_result"
    }
   ],
   "source": [
    "Y_train.head()"
   ]
  },
  {
   "cell_type": "code",
   "execution_count": 22,
   "metadata": {},
   "outputs": [
    {
     "name": "stderr",
     "output_type": "stream",
     "text": [
      "/Users/alokbhardwaj/opt/anaconda3/envs/ai_env/lib/python3.9/site-packages/seaborn/_decorators.py:36: FutureWarning: Pass the following variable as a keyword arg: x. From version 0.12, the only valid positional argument will be `data`, and passing other arguments without an explicit keyword will result in an error or misinterpretation.\n",
      "  warnings.warn(\n"
     ]
    },
    {
     "data": {
      "text/plain": [
       "1    4684\n",
       "7    4401\n",
       "3    4351\n",
       "9    4188\n",
       "2    4177\n",
       "6    4137\n",
       "0    4132\n",
       "4    4072\n",
       "8    4063\n",
       "5    3795\n",
       "Name: label, dtype: int64"
      ]
     },
     "execution_count": 22,
     "metadata": {},
     "output_type": "execute_result"
    },
    {
     "data": {
      "image/png": "[encoded data removed]",
      "text/plain": [
       "<Figure size 720x576 with 1 Axes>"
      ]
     },
     "metadata": {
      "needs_background": "light"
     },
     "output_type": "display_data"
    }
   ],
   "source": [
    "# visualize number of digits classes\n",
    "plt.figure(figsize=(10,8))\n",
    "g = sns.countplot(Y_train, palette=\"icefire\")\n",
    "plt.title(\"Different types of digits\")\n",
    "Y_train.value_counts()"
   ]
  },
  {
   "cell_type": "code",
   "execution_count": 23,
   "metadata": {
    "_uuid": "446814df733cfa6d1af6b1c824ae07d506d4394a",
    "execution": {
     "iopub.execute_input": "2022-06-29T07:41:00.663393Z",
     "iopub.status.busy": "2022-06-29T07:41:00.663065Z",
     "iopub.status.idle": "2022-06-29T07:41:00.924298Z",
     "shell.execute_reply": "2022-06-29T07:41:00.923528Z",
     "shell.execute_reply.started": "2022-06-29T07:41:00.663326Z"
    }
   },
   "outputs": [],
   "source": [
    "X_train = np.array(X_train)\n",
    "Y_train = np.array(Y_train)"
   ]
  },
  {
   "cell_type": "code",
   "execution_count": 24,
   "metadata": {},
   "outputs": [
    {
     "name": "stdout",
     "output_type": "stream",
     "text": [
      "(42000, 784)\n",
      "(42000,)\n"
     ]
    }
   ],
   "source": [
    "print (X_train.shape)\n",
    "print (Y_train.shape)"
   ]
  },
  {
   "cell_type": "code",
   "execution_count": 25,
   "metadata": {
    "_uuid": "cc3ea8d43dfde2a4cb7f1debf9dbeed9572a44dc"
   },
   "outputs": [],
   "source": [
    "# Normalize inputs ;  feature engineering\n",
    "X_train = X_train / 255.0"
   ]
  },
  {
   "cell_type": "markdown",
   "metadata": {
    "_uuid": "77329c63e08164e2b0bb11e34de7b14b5cd0cdef"
   },
   "source": [
    "# Plot Digits"
   ]
  },
  {
   "cell_type": "code",
   "execution_count": 26,
   "metadata": {
    "_uuid": "42f1019254336a51191b9881f3b7baa3566f8850",
    "execution": {
     "iopub.execute_input": "2022-06-29T07:42:36.486046Z",
     "iopub.status.busy": "2022-06-29T07:42:36.485736Z",
     "iopub.status.idle": "2022-06-29T07:42:36.491053Z",
     "shell.execute_reply": "2022-06-29T07:42:36.490411Z",
     "shell.execute_reply.started": "2022-06-29T07:42:36.485994Z"
    }
   },
   "outputs": [],
   "source": [
    "def plot_digits(X, Y):\n",
    "    for i in range(20):\n",
    "        plt.subplot(5, 4, i+1)\n",
    "        plt.tight_layout()\n",
    "        plt.imshow(X[i].reshape(28, 28), cmap='gray')\n",
    "        plt.title('Digit:{}'.format(Y[i]))\n",
    "        plt.xticks([])\n",
    "        plt.yticks([])\n",
    "    plt.show()"
   ]
  },
  {
   "cell_type": "code",
   "execution_count": 9,
   "metadata": {
    "_uuid": "565f266da9791e6bc4c50cfb2d1d617fcb3e5958",
    "execution": {
     "iopub.execute_input": "2022-06-29T07:42:39.341417Z",
     "iopub.status.busy": "2022-06-29T07:42:39.341069Z",
     "iopub.status.idle": "2022-06-29T07:42:41.370994Z",
     "shell.execute_reply": "2022-06-29T07:42:41.369559Z",
     "shell.execute_reply.started": "2022-06-29T07:42:39.341352Z"
    }
   },
   "outputs": [
    {
     "data": {
      "image/png": "[encoded data removed]",
      "text/plain": [
       "<Figure size 432x288 with 20 Axes>"
      ]
     },
     "metadata": {},
     "output_type": "display_data"
    }
   ],
   "source": [
    "plot_digits(X_train, Y_train)"
   ]
  },
  {
   "cell_type": "code",
   "execution_count": 28,
   "metadata": {
    "_uuid": "fbb906464bc6be7872b8eca49e6cc4604941816c",
    "execution": {
     "iopub.execute_input": "2022-06-29T07:43:47.323103Z",
     "iopub.status.busy": "2022-06-29T07:43:47.322835Z",
     "iopub.status.idle": "2022-06-29T07:43:48.113167Z",
     "shell.execute_reply": "2022-06-29T07:43:48.111948Z",
     "shell.execute_reply.started": "2022-06-29T07:43:47.323068Z"
    }
   },
   "outputs": [],
   "source": [
    "#Train-Test Split\n",
    "#X_dev, X_val, Y_dev, Y_val = train_test_split(X_train, Y_train, test_size=0.3, shuffle=True, random_state=2022)\n",
    "x_train, x_val, y_train, y_val = train_test_split(X_train, Y_train, test_size=0.3, shuffle=True, random_state=2022)\n"
   ]
  },
  {
   "cell_type": "code",
   "execution_count": 29,
   "metadata": {},
   "outputs": [
    {
     "name": "stdout",
     "output_type": "stream",
     "text": [
      "x_train shape: (29400, 784)\n",
      "y_train shape: (29400,)\n",
      "x_val shape: (12600, 784)\n",
      "y_val shape: (12600,)\n"
     ]
    }
   ],
   "source": [
    "print ('x_train shape:',x_train.shape)\n",
    "print ('y_train shape:',y_train.shape)\n",
    "print ('x_val shape:',x_val.shape)\n",
    "print ('y_val shape:',y_val.shape)"
   ]
  },
  {
   "cell_type": "code",
   "execution_count": 30,
   "metadata": {},
   "outputs": [
    {
     "name": "stdout",
     "output_type": "stream",
     "text": [
      "[4 5 4 ... 7 4 7]\n",
      "[1 5 6 ... 3 2 1]\n"
     ]
    }
   ],
   "source": [
    "print (y_train)\n",
    "print (y_val)"
   ]
  },
  {
   "cell_type": "code",
   "execution_count": 31,
   "metadata": {},
   "outputs": [],
   "source": [
    "# Label Encoding for one-hot encoding\n",
    "from keras.utils.np_utils import to_categorical \n",
    "y_train = to_categorical(y_train, num_classes = 10)\n",
    "y_val = to_categorical(y_val, num_classes = 10)\n",
    "\n",
    "# alternatively below can also be followed \n",
    "# y_train = pd.get_dummies(y_train).values\n",
    "# y_val = pd.get_dummies(y_val).values"
   ]
  },
  {
   "cell_type": "code",
   "execution_count": 32,
   "metadata": {},
   "outputs": [
    {
     "name": "stdout",
     "output_type": "stream",
     "text": [
      "[0. 0. 0. 0. 1. 0. 0. 0. 0. 0.]\n",
      "[0. 0. 0. 0. 0. 0. 1. 0. 0. 0.]\n"
     ]
    }
   ],
   "source": [
    "print (y_train[2])\n",
    "print (y_val[2])"
   ]
  },
  {
   "cell_type": "code",
   "execution_count": 33,
   "metadata": {
    "_uuid": "549624ad1e62e1186eef71eb5e34533bc4d054b7",
    "execution": {
     "iopub.execute_input": "2022-06-29T07:44:19.216797Z",
     "iopub.status.busy": "2022-06-29T07:44:19.216239Z",
     "iopub.status.idle": "2022-06-29T07:44:19.220685Z",
     "shell.execute_reply": "2022-06-29T07:44:19.219844Z",
     "shell.execute_reply.started": "2022-06-29T07:44:19.216749Z"
    }
   },
   "outputs": [],
   "source": [
    "#CNN accepts only 3D image shape we need to reshape the input \n",
    "x_train = x_train.reshape(x_train.shape[0], 28, 28, 1)\n",
    "x_val = x_val.reshape(x_val.shape[0], 28, 28, 1)"
   ]
  },
  {
   "cell_type": "code",
   "execution_count": 34,
   "metadata": {},
   "outputs": [
    {
     "name": "stdout",
     "output_type": "stream",
     "text": [
      "X_train shape: (29400, 28, 28, 1)\n",
      "X_val: (12600, 28, 28, 1)\n"
     ]
    }
   ],
   "source": [
    "print ('X_train shape:', x_train.shape)\n",
    "print ('X_val:',x_val.shape)"
   ]
  },
  {
   "cell_type": "code",
   "execution_count": 35,
   "metadata": {},
   "outputs": [
    {
     "data": {
      "image/png": "[encoded data removed]",
      "text/plain": [
       "<Figure size 432x288 with 1 Axes>"
      ]
     },
     "metadata": {
      "needs_background": "light"
     },
     "output_type": "display_data"
    }
   ],
   "source": [
    "plt.imshow(x_train[29399],cmap='gray')\n",
    "plt.show()"
   ]
  },
  {
   "cell_type": "code",
   "execution_count": 36,
   "metadata": {
    "_uuid": "39f4eb788b9d8d1fd6d90bf8207aef93e0bf97a7",
    "execution": {
     "iopub.execute_input": "2022-06-29T07:44:39.013063Z",
     "iopub.status.busy": "2022-06-29T07:44:39.012492Z",
     "iopub.status.idle": "2022-06-29T07:44:39.239971Z",
     "shell.execute_reply": "2022-06-29T07:44:39.239096Z",
     "shell.execute_reply.started": "2022-06-29T07:44:39.013014Z"
    }
   },
   "outputs": [],
   "source": [
    "model = Sequential()\n",
    "model.add(Conv2D(filters=32, kernel_size=(5,5), padding='same', activation='relu', input_shape=(28, 28, 1)))\n",
    "model.add(MaxPool2D(strides=2))\n",
    "model.add(Conv2D(filters=48, kernel_size=(5,5), padding='valid', activation='relu'))\n",
    "model.add(MaxPool2D(strides=2))\n",
    "model.add(Flatten())\n",
    "model.add(Dense(256, activation='relu'))\n",
    "model.add(Dense(84, activation='relu'))\n",
    "model.add(Dense(10, activation='softmax'))"
   ]
  },
  {
   "cell_type": "code",
   "execution_count": 37,
   "metadata": {
    "_uuid": "5fd1c9e9fbb72c4b56b1e960821cf5d2b6c8c618",
    "execution": {
     "iopub.execute_input": "2022-06-29T07:44:42.173196Z",
     "iopub.status.busy": "2022-06-29T07:44:42.172844Z",
     "iopub.status.idle": "2022-06-29T07:44:42.185524Z",
     "shell.execute_reply": "2022-06-29T07:44:42.183389Z",
     "shell.execute_reply.started": "2022-06-29T07:44:42.173132Z"
    }
   },
   "outputs": [
    {
     "name": "stdout",
     "output_type": "stream",
     "text": [
      "Model: \"sequential_1\"\n",
      "_________________________________________________________________\n",
      "Layer (type)                 Output Shape              Param #   \n",
      "=================================================================\n",
      "conv2d_2 (Conv2D)            (None, 28, 28, 32)        832       \n",
      "_________________________________________________________________\n",
      "max_pooling2d_2 (MaxPooling2 (None, 14, 14, 32)        0         \n",
      "_________________________________________________________________\n",
      "conv2d_3 (Conv2D)            (None, 10, 10, 48)        38448     \n",
      "_________________________________________________________________\n",
      "max_pooling2d_3 (MaxPooling2 (None, 5, 5, 48)          0         \n",
      "_________________________________________________________________\n",
      "flatten_1 (Flatten)          (None, 1200)              0         \n",
      "_________________________________________________________________\n",
      "dense_3 (Dense)              (None, 256)               307456    \n",
      "_________________________________________________________________\n",
      "dense_4 (Dense)              (None, 84)                21588     \n",
      "_________________________________________________________________\n",
      "dense_5 (Dense)              (None, 10)                850       \n",
      "=================================================================\n",
      "Total params: 369,174\n",
      "Trainable params: 369,174\n",
      "Non-trainable params: 0\n",
      "_________________________________________________________________\n"
     ]
    }
   ],
   "source": [
    "model.build()\n",
    "model.summary()"
   ]
  },
  {
   "cell_type": "code",
   "execution_count": 38,
   "metadata": {
    "_uuid": "d34ba8b4723050c33b3390d2a05220636c2f0f8a",
    "execution": {
     "iopub.execute_input": "2022-06-29T07:44:45.846029Z",
     "iopub.status.busy": "2022-06-29T07:44:45.845757Z",
     "iopub.status.idle": "2022-06-29T07:44:45.896436Z",
     "shell.execute_reply": "2022-06-29T07:44:45.895400Z",
     "shell.execute_reply.started": "2022-06-29T07:44:45.845992Z"
    }
   },
   "outputs": [],
   "source": [
    "#adam = Adam(lr=5e-4)\n",
    "adam = Adam(lr=0.001)\n",
    "model.compile(loss='categorical_crossentropy', metrics=['accuracy'], optimizer=adam)"
   ]
  },
  {
   "cell_type": "code",
   "execution_count": 39,
   "metadata": {
    "_uuid": "f0dfd9488061194f9ef01a57d62f10e0de8fa028",
    "execution": {
     "iopub.execute_input": "2022-06-29T07:45:34.773109Z",
     "iopub.status.busy": "2022-06-29T07:45:34.772838Z",
     "iopub.status.idle": "2022-06-29T07:45:34.777348Z",
     "shell.execute_reply": "2022-06-29T07:45:34.776500Z",
     "shell.execute_reply.started": "2022-06-29T07:45:34.773073Z"
    }
   },
   "outputs": [],
   "source": [
    "# Set a learning rate annealer to reduce learning rate if the learning stagnates\n",
    "# monitor is the quantity to be measured\n",
    "# factor by which learning rate will be reduced\n",
    "# number of epochs with no improvement in monitor function after which learning rate will be reduced\n",
    "reduce_lr = ReduceLROnPlateau(monitor='val_acc', \n",
    "                                patience=3, \n",
    "                                verbose=1, \n",
    "                                factor=0.2, \n",
    "                                min_lr=1e-6)"
   ]
  },
  {
   "cell_type": "code",
   "execution_count": 40,
   "metadata": {
    "_uuid": "e1e99d749bd0ab368b73884d761055491a0e3153",
    "execution": {
     "iopub.execute_input": "2022-06-29T07:45:37.587170Z",
     "iopub.status.busy": "2022-06-29T07:45:37.586735Z",
     "iopub.status.idle": "2022-06-29T07:45:37.814335Z",
     "shell.execute_reply": "2022-06-29T07:45:37.813581Z",
     "shell.execute_reply.started": "2022-06-29T07:45:37.587128Z"
    }
   },
   "outputs": [],
   "source": [
    "# Data Augmentation\n",
    "datagen = ImageDataGenerator(\n",
    "            rotation_range=10, \n",
    "            width_shift_range=0.1, \n",
    "            height_shift_range=0.1, \n",
    "            zoom_range=0.1)\n",
    "datagen.fit(x_train)\n",
    "# options\n",
    "#featurewise_center=False,  # set input mean to 0 over the dataset\n",
    "#samplewise_center=False,  # set each sample mean to 0\n",
    "#featurewise_std_normalization=False,  # divide inputs by std of the dataset\n",
    "#samplewise_std_normalization=False,  # divide each input by its std\n",
    "#zca_whitening=False,  # dimesion reduction\n",
    "#rotation_range=5,  # randomly rotate images in the range 5 degrees\n",
    "#zoom_range = 0.1, # Randomly zoom image 10%\n",
    "#width_shift_range=0.1,  # randomly shift images horizontally 10%\n",
    "#height_shift_range=0.1,  # randomly shift images vertically 10%\n",
    "#horizontal_flip=False,  # randomly flip images\n",
    "#vertical_flip=False  # randomly flip images\n"
   ]
  },
  {
   "cell_type": "code",
   "execution_count": 41,
   "metadata": {},
   "outputs": [
    {
     "data": {
      "text/plain": [
       "29400"
      ]
     },
     "execution_count": 41,
     "metadata": {},
     "output_type": "execute_result"
    }
   ],
   "source": [
    "len(x_train)"
   ]
  },
  {
   "cell_type": "code",
   "execution_count": 42,
   "metadata": {
    "_uuid": "b6441c7f0b7ad33d1e3ca91b3d82f91a28b6f42a",
    "execution": {
     "iopub.execute_input": "2022-06-29T07:45:40.579680Z",
     "iopub.status.busy": "2022-06-29T07:45:40.579033Z",
     "iopub.status.idle": "2022-06-29T08:03:00.240428Z",
     "shell.execute_reply": "2022-06-29T08:03:00.239551Z",
     "shell.execute_reply.started": "2022-06-29T07:45:40.579519Z"
    }
   },
   "outputs": [
    {
     "name": "stderr",
     "output_type": "stream",
     "text": [
      "/Users/alokbhardwaj/opt/anaconda3/envs/ai_env/lib/python3.9/site-packages/tensorflow/python/keras/engine/training.py:1844: UserWarning: `Model.fit_generator` is deprecated and will be removed in a future version. Please use `Model.fit`, which supports generators.\n",
      "  warnings.warn('`Model.fit_generator` is deprecated and '\n",
      "2024-04-17 15:02:19.760703: I tensorflow/compiler/mlir/mlir_graph_optimization_pass.cc:116] None of the MLIR optimization passes are enabled (registered 2)\n"
     ]
    },
    {
     "name": "stdout",
     "output_type": "stream",
     "text": [
      "Epoch 1/5\n",
      "294/294 [==============================] - 20s 65ms/step - loss: 0.8783 - accuracy: 0.7079 - val_loss: 0.0983 - val_accuracy: 0.9686\n",
      "WARNING:tensorflow:Learning rate reduction is conditioned on metric `val_acc` which is not available. Available metrics are: loss,accuracy,val_loss,val_accuracy,lr\n",
      "Epoch 2/5\n",
      "294/294 [==============================] - 18s 62ms/step - loss: 0.1473 - accuracy: 0.9528 - val_loss: 0.0539 - val_accuracy: 0.9830\n",
      "WARNING:tensorflow:Learning rate reduction is conditioned on metric `val_acc` which is not available. Available metrics are: loss,accuracy,val_loss,val_accuracy,lr\n",
      "Epoch 3/5\n",
      "294/294 [==============================] - 15s 50ms/step - loss: 0.0939 - accuracy: 0.9708 - val_loss: 0.0467 - val_accuracy: 0.9855\n",
      "WARNING:tensorflow:Learning rate reduction is conditioned on metric `val_acc` which is not available. Available metrics are: loss,accuracy,val_loss,val_accuracy,lr\n",
      "Epoch 4/5\n",
      "294/294 [==============================] - 16s 56ms/step - loss: 0.0718 - accuracy: 0.9772 - val_loss: 0.0544 - val_accuracy: 0.9833\n",
      "WARNING:tensorflow:Learning rate reduction is conditioned on metric `val_acc` which is not available. Available metrics are: loss,accuracy,val_loss,val_accuracy,lr\n",
      "Epoch 5/5\n",
      "294/294 [==============================] - 15s 51ms/step - loss: 0.0637 - accuracy: 0.9809 - val_loss: 0.0448 - val_accuracy: 0.9865\n",
      "WARNING:tensorflow:Learning rate reduction is conditioned on metric `val_acc` which is not available. Available metrics are: loss,accuracy,val_loss,val_accuracy,lr\n"
     ]
    }
   ],
   "source": [
    "batch_size = 100\n",
    "model_history = model.fit_generator(datagen.flow(x_train, y_train, batch_size=100), steps_per_epoch=len(x_train)//batch_size, \n",
    "                    epochs=5, validation_data=(x_val, y_val), callbacks=[reduce_lr])"
   ]
  },
  {
   "cell_type": "code",
   "execution_count": 43,
   "metadata": {},
   "outputs": [
    {
     "data": {
      "image/png": "[encoded data removed]",
      "text/plain": [
       "<Figure size 432x288 with 1 Axes>"
      ]
     },
     "metadata": {
      "needs_background": "light"
     },
     "output_type": "display_data"
    }
   ],
   "source": [
    "plt.plot(model_history.history['val_loss'], color='r', label=\"Validation Loss\")\n",
    "plt.xlabel(\"Number of Epochs\")\n",
    "plt.ylabel(\"Validation Loss\")\n",
    "plt.legend()\n",
    "plt.show()"
   ]
  },
  {
   "cell_type": "code",
   "execution_count": 44,
   "metadata": {},
   "outputs": [
    {
     "data": {
      "image/png": "[encoded data removed]",
      "text/plain": [
       "<Figure size 432x288 with 1 Axes>"
      ]
     },
     "metadata": {
      "needs_background": "light"
     },
     "output_type": "display_data"
    }
   ],
   "source": [
    "plt.plot(model_history.history['loss'], color='r', label=\"Training Loss\")\n",
    "plt.xlabel(\"Number of Epochs\")\n",
    "plt.ylabel(\"Training Loss\")\n",
    "plt.legend()\n",
    "plt.show()"
   ]
  },
  {
   "cell_type": "code",
   "execution_count": 45,
   "metadata": {
    "_uuid": "12a3ce31e8a5084b53979cba8e4d901a9354162b",
    "execution": {
     "iopub.execute_input": "2022-06-29T09:05:21.765421Z",
     "iopub.status.busy": "2022-06-29T09:05:21.765050Z",
     "iopub.status.idle": "2022-06-29T09:05:22.154953Z",
     "shell.execute_reply": "2022-06-29T09:05:22.153975Z",
     "shell.execute_reply.started": "2022-06-29T09:05:21.765364Z"
    }
   },
   "outputs": [
    {
     "name": "stdout",
     "output_type": "stream",
     "text": [
      "394/394 [==============================] - 2s 4ms/step - loss: 0.0448 - accuracy: 0.9865\n"
     ]
    }
   ],
   "source": [
    "score = model.evaluate(x_val, y_val, batch_size=32)"
   ]
  },
  {
   "cell_type": "code",
   "execution_count": 46,
   "metadata": {
    "_uuid": "c106f7458a98728316239490047772da57063300",
    "execution": {
     "iopub.execute_input": "2022-06-29T09:05:25.894087Z",
     "iopub.status.busy": "2022-06-29T09:05:25.893798Z",
     "iopub.status.idle": "2022-06-29T09:05:25.898999Z",
     "shell.execute_reply": "2022-06-29T09:05:25.898245Z",
     "shell.execute_reply.started": "2022-06-29T09:05:25.894049Z"
    }
   },
   "outputs": [
    {
     "data": {
      "text/plain": [
       "[0.04476546496152878, 0.9865079522132874]"
      ]
     },
     "execution_count": 46,
     "metadata": {},
     "output_type": "execute_result"
    }
   ],
   "source": [
    "score  # val_loss and val_accuracy"
   ]
  },
  {
   "cell_type": "markdown",
   "metadata": {},
   "source": [
    "# Saving model\n"
   ]
  },
  {
   "cell_type": "code",
   "execution_count": 34,
   "metadata": {},
   "outputs": [],
   "source": [
    "model.save(\"Sequential.h5\")"
   ]
  },
  {
   "cell_type": "markdown",
   "metadata": {
    "_uuid": "53f5237ef36125cc68508a0158fef0fda1a5b53e"
   },
   "source": [
    "# Let's predict "
   ]
  },
  {
   "cell_type": "code",
   "execution_count": 47,
   "metadata": {},
   "outputs": [],
   "source": [
    "y_pred = model.predict(x_val)"
   ]
  },
  {
   "cell_type": "code",
   "execution_count": 48,
   "metadata": {},
   "outputs": [
    {
     "name": "stdout",
     "output_type": "stream",
     "text": [
      "[4.5239656e-07 9.9991298e-01 1.2587699e-07 3.7986516e-09 5.8066967e-06\n",
      " 3.6795527e-06 7.4862015e-07 3.3862248e-06 7.1636183e-05 1.1908858e-06]\n"
     ]
    }
   ],
   "source": [
    "print (y_pred[0])"
   ]
  },
  {
   "cell_type": "code",
   "execution_count": 49,
   "metadata": {},
   "outputs": [
    {
     "data": {
      "text/plain": [
       "0.999913"
      ]
     },
     "execution_count": 49,
     "metadata": {},
     "output_type": "execute_result"
    }
   ],
   "source": [
    "np.max(y_pred[0])"
   ]
  },
  {
   "cell_type": "code",
   "execution_count": 50,
   "metadata": {},
   "outputs": [
    {
     "data": {
      "image/png": "[encoded data removed]",
      "text/plain": [
       "<Figure size 432x288 with 1 Axes>"
      ]
     },
     "metadata": {
      "needs_background": "light"
     },
     "output_type": "display_data"
    }
   ],
   "source": [
    "plt.imshow(x_val[0],cmap='gray')\n",
    "plt.show()"
   ]
  },
  {
   "cell_type": "code",
   "execution_count": 47,
   "metadata": {},
   "outputs": [
    {
     "data": {
      "text/plain": [
       "12600"
      ]
     },
     "execution_count": 47,
     "metadata": {},
     "output_type": "execute_result"
    }
   ],
   "source": [
    "len(y_pred)"
   ]
  },
  {
   "cell_type": "code",
   "execution_count": 51,
   "metadata": {},
   "outputs": [],
   "source": [
    "from sklearn.metrics import confusion_matrix\n",
    "y_pred = model.predict(x_val)\n",
    "# conversion to one-hot encoding\n",
    "y_pred = np.argmax(y_pred,axis = 1) \n",
    "y_true = np.argmax(y_val,axis = 1) \n",
    "# compute the confusion matrix\n",
    "confusion_matrix_results = confusion_matrix(y_true, y_pred) "
   ]
  },
  {
   "cell_type": "code",
   "execution_count": 40,
   "metadata": {},
   "outputs": [
    {
     "name": "stdout",
     "output_type": "stream",
     "text": [
      "[[1215    0    1    1    0    0    4    0    0    0]\n",
      " [   0 1357    7    0    0    0    1    5   10    2]\n",
      " [   0    1 1218    3    0    0    0    2    1    1]\n",
      " [   0    0    1 1279    0    0    0    0    3    4]\n",
      " [   0    0    2    0 1215    0    3    0    0   10]\n",
      " [   0    0    0   11    0 1118    1    0    4    4]\n",
      " [   5    0    1    0    1    0 1279    0    1    0]\n",
      " [   0    1    4    1    3    0    0 1349    0    1]\n",
      " [   1    1    3    0    0    4    3    1 1173    2]\n",
      " [   0    0    0    1    5    1    0    7    4 1264]]\n"
     ]
    }
   ],
   "source": [
    "print (confusion_matrix_results)"
   ]
  },
  {
   "cell_type": "code",
   "execution_count": 41,
   "metadata": {},
   "outputs": [
    {
     "data": {
      "image/png": "[encoded data removed]",
      "text/plain": [
       "<Figure size 720x720 with 2 Axes>"
      ]
     },
     "metadata": {
      "needs_background": "light"
     },
     "output_type": "display_data"
    }
   ],
   "source": [
    "# plot the confusion matrix, NOT RECOMMENDED\n",
    "f,ax = plt.subplots(figsize=(10, 10))\n",
    "sns.heatmap(confusion_matrix_results, annot=True, linewidths=0.05,cmap=\"Blues\",linecolor=\"black\", fmt= '.1f',ax=ax)\n",
    "plt.xlabel(\"Predicted Labels\",fontsize=14)\n",
    "plt.ylabel(\"True Labels\",fontsize=14)\n",
    "plt.title(\"Confusion Matrix for LENET\")\n",
    "plt.show()"
   ]
  },
  {
   "cell_type": "code",
   "execution_count": 100,
   "metadata": {
    "_uuid": "ae3743fcad78547af06fd7f07a423a9c3903cd70",
    "execution": {
     "iopub.execute_input": "2022-06-29T09:05:30.070118Z",
     "iopub.status.busy": "2022-06-29T09:05:30.069779Z",
     "iopub.status.idle": "2022-06-29T09:05:33.421276Z",
     "shell.execute_reply": "2022-06-29T09:05:33.420242Z",
     "shell.execute_reply.started": "2022-06-29T09:05:30.070057Z"
    }
   },
   "outputs": [],
   "source": [
    "# For test data, Y_Test is not available\n",
    "# so only predictions can be done and not accuracy assessment\n",
    "#df_test = pd.read_csv('Dataset/test.csv')\n",
    "#X_test = np.array(df_test)\n",
    "#X_test = X_test/255.0\n",
    "#X_test = X_test.reshape((X_test.shape[0], 28, 28, 1))\n",
    "#Y_test = model.predict(X_test)\n",
    "#Y_test = np.argmax(Y_test, axis=1)\n",
    "#Y_test[:5]\n",
    "# create submission file\n",
    "#df_out = pd.read_csv('Dataset/sample_submission.csv')\n",
    "#df_out['Label'] = Y_test\n",
    "#df_out.head()\n",
    "# df_out.to_csv('out.csv', index=False)"
   ]
  },
  {
   "cell_type": "markdown",
   "metadata": {},
   "source": [
    "# Resource"
   ]
  },
  {
   "cell_type": "code",
   "execution_count": 1,
   "metadata": {},
   "outputs": [],
   "source": [
    "# https://www.kaggle.com/code/curiousprogrammer/lenet-5-cnn-with-keras-99-48/notebook"
   ]
  }
 ],
 "metadata": {
  "kernelspec": {
   "display_name": "Python [conda env:ai_env] *",
   "language": "python",
   "name": "conda-env-ai_env-py"
  },
  "language_info": {
   "codemirror_mode": {
    "name": "ipython",
    "version": 3
   },
   "file_extension": ".py",
   "mimetype": "text/x-python",
   "name": "python",
   "nbconvert_exporter": "python",
   "pygments_lexer": "ipython3",
   "version": "3.9.12"
  },
  "vscode": {
   "interpreter": {
    "hash": "3424c8d5d5d4023d4e99034e313d6393514efb28456fdd7c218e89ee93bab514"
   }
  }
 },
 "nbformat": 4,
 "nbformat_minor": 4
}
